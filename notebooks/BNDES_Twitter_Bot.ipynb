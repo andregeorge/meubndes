{
  "nbformat": 4,
  "nbformat_minor": 0,
  "metadata": {
    "colab": {
      "name": "BNDES Twitter Bot",
      "provenance": [],
      "collapsed_sections": []
    },
    "kernelspec": {
      "name": "python3",
      "display_name": "Python 3"
    },
    "language_info": {
      "name": "python"
    }
  },
  "cells": [
    {
      "cell_type": "code",
      "metadata": {
        "id": "LBR1l5aureuF"
      },
      "source": [
        "!pip install fastapi\n",
        "!pip install colabcode\n",
        "!pip install tweepy"
      ],
      "execution_count": null,
      "outputs": []
    },
    {
      "cell_type": "code",
      "metadata": {
        "id": "JPJ2WPNLrRzx"
      },
      "source": [
        "from os import getenv\n",
        "import json\n",
        "import uuid\n",
        "\n",
        "import tweepy\n",
        "\n",
        "from fastapi import FastAPI"
      ],
      "execution_count": null,
      "outputs": []
    },
    {
      "cell_type": "code",
      "metadata": {
        "id": "QjMjDidjr63z"
      },
      "source": [
        "config = {\n",
        "  \"CONSUMER_KEY\": \"\",\n",
        "  \"CONSUMER_SECRET\": \"\",\n",
        "  \"ACCESS_TOKEN\": \"\",\n",
        "  \"ACCESS_TOKEN_SECRET\": \"\"\n",
        "}"
      ],
      "execution_count": null,
      "outputs": []
    },
    {
      "cell_type": "code",
      "metadata": {
        "id": "e2VupEj3stFn"
      },
      "source": [
        "# Authenticate to Twitter\n",
        "def api_auth():\n",
        "  auth = tweepy.OAuthHandler(config['CONSUMER_KEY'], config['CONSUMER_SECRET'])\n",
        "  auth.set_access_token(config['ACCESS_TOKEN'], config['ACCESS_TOKEN_SECRET'])\n",
        "\n",
        "  # Create API object\n",
        "  api = tweepy.API(auth, wait_on_rate_limit=True,\n",
        "      wait_on_rate_limit_notify=True)\n",
        "  try:\n",
        "      api.verify_credentials()\n",
        "      print(\"Authentication OK\")\n",
        "      return api\n",
        "  except:\n",
        "      print(\"Error during authentication\")\n",
        "      return None"
      ],
      "execution_count": null,
      "outputs": []
    },
    {
      "cell_type": "code",
      "metadata": {
        "id": "EzhfejMos31S"
      },
      "source": [
        "# Create a tweet\n",
        "def post_message(api,text):\n",
        "  return api.update_status(text)\n",
        "\n",
        "# Get timeline tweets\n",
        "def get_timeline_messages(api,count=100):\n",
        "  tweets = {}\n",
        "  timeline = api.home_timeline(count)\n",
        "  for tweet in timeline:\n",
        "     tweets[tweet.id] = {\"username\": tweet.user.name, \"message\" : tweet.text, \"date\": \"\"}\n",
        "  return tweets\n",
        "\n",
        "# Check mentions sent to @\n",
        "def check_mentions(api, keywords, since_id):\n",
        "    logger.info(\"Retrieving mentions\")\n",
        "    new_since_id = since_id\n",
        "    for tweet in tweepy.Cursor(api.mentions_timeline,\n",
        "        since_id=since_id).items():\n",
        "        new_since_id = max(tweet.id, new_since_id)\n",
        "        if tweet.in_reply_to_status_id is not None:\n",
        "            continue\n",
        "        if any(keyword in tweet.text.lower() for keyword in keywords):\n",
        "            logger.info(f\"Answering to {tweet.user.name}\")\n",
        "\n",
        "            if not tweet.user.following:\n",
        "                tweet.user.follow()\n",
        "\n",
        "            api.update_status(\n",
        "                status=\"Please reach us via DM\",\n",
        "                in_reply_to_status_id=tweet.id,\n",
        "            )\n",
        "    return new_since_id"
      ],
      "execution_count": null,
      "outputs": []
    },
    {
      "cell_type": "code",
      "metadata": {
        "id": "FAWkpmier6EJ"
      },
      "source": [
        "app = FastAPI()\n",
        "\n",
        "@app.on_event(\"startup\")\n",
        "def load_model():\n",
        "    global query, model, transformation\n",
        "    #fpickle = pickle.load(open(\"model_tree.pkl\", \"rb\"))\n",
        "    #model = fpickle['model']\n",
        "    #transformation = fpickle['transformation']\n",
        "\n",
        "@app.get('/')\n",
        "def index():\n",
        "    return {'message': 'This is the homepage of the API '}\n",
        "\n",
        "@app.get('/tweet/{item_code}')\n",
        "def get_data_by_zip(item_code: int):\n",
        "    query = \"select top 1 * from c where c.municipio_codigo = {}\".format(str(item_code))\n",
        "    print(query)\n",
        "    result = get_query_items(query)\n",
        "    return result"
      ],
      "execution_count": null,
      "outputs": []
    }
  ]
}