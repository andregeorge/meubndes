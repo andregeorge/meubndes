{
  "nbformat": 4,
  "nbformat_minor": 0,
  "metadata": {
    "colab": {
      "name": "BNDES Data Download Operações",
      "provenance": [],
      "collapsed_sections": []
    },
    "kernelspec": {
      "name": "python3",
      "display_name": "Python 3"
    },
    "language_info": {
      "name": "python"
    }
  },
  "cells": [
    {
      "cell_type": "markdown",
      "metadata": {
        "id": "XKxM4BRSLReK"
      },
      "source": [
        "Projeto Dados Abertos BNDES\n",
        "\n",
        "Download bases do BNDES "
      ]
    },
    {
      "cell_type": "code",
      "metadata": {
        "id": "zrHEEmEwTbNj"
      },
      "source": [
        "!pip install jupyterlab==3.0.16\n",
        "!pip install matplotlib==3.4.2\n",
        "!pip install numpy==1.21.1\n",
        "!pip install pandas==1.3.1\n",
        "!pip install requests==2.26.0\n",
        "!pip install seaborn==0.11.1\n",
        "# woraround caso o venv seja criado com pip no conda\n",
        "!pip install pywin32==225"
      ],
      "execution_count": null,
      "outputs": []
    },
    {
      "cell_type": "code",
      "metadata": {
        "id": "NYxhBbnco8L-"
      },
      "source": [
        "import requests\n",
        "from pathlib import Path\n",
        "\n",
        "import pandas as pd"
      ],
      "execution_count": null,
      "outputs": []
    },
    {
      "cell_type": "code",
      "metadata": {
        "id": "jwb01QqkDJGH"
      },
      "source": [
        "config = {\n",
        "    \"endpoint\": \"https://db-nosql.documents.azure.com:443/\",\n",
        "    \"database\" : \"db-nosql\",\n",
        "    \"container\" : \"meubndes\",\n",
        "    \"masterkey\": \"bQPdXS0y1GLPLeCh2neFzdNX9bd6RKq1J8pTjzsRQG8Tf7DV0xyOe24lwtRTKwF6NbXHV9JRBACIOvfHPHOOHw==\",\n",
        "    \"readkey\" : \"Q9ikAx2k6puQIrVHHN1xosrfAF0amUqTmBC724wJdNxTP3JGNKnQMpixOOkHhgWiVyCMi4xZup7rMeetig1eWg==\"\n",
        "}"
      ],
      "execution_count": null,
      "outputs": []
    },
    {
      "cell_type": "code",
      "metadata": {
        "id": "0D7g6Ws9pDXV"
      },
      "source": [
        "#O URL está sempre no topo da página de cada recurso.\n",
        "def download_bndes(url_csv):\n",
        "    Path('dados').mkdir(exist_ok=True)\n",
        "    arq = Path('dados') / url_csv.split('/')[-1]\n",
        "\n",
        "    content = None\n",
        "    if not arq.exists():\n",
        "        # baixa arquivo\n",
        "        dados = requests.get(url_csv)\n",
        "        dados.raise_for_status()\n",
        "        content = dados.content\n",
        "        with arq.open('wb') as f:\n",
        "            f.write(content)\n",
        "    else:\n",
        "        print(f\"Arquivo já existe, para forçar download apague o arquivo {arq} e tente de novo\")\n",
        "    return arq"
      ],
      "execution_count": null,
      "outputs": []
    },
    {
      "cell_type": "code",
      "metadata": {
        "id": "FUe0x-yqLVGl"
      },
      "source": [
        "urls = {\n",
        "       \"operacoes-automaticas\": \"https://dadosabertos.bndes.gov.br/dataset/0f335c85-92a8-4343-9423-f073fb40774e/resource/9534f677-9525-4bf8-a3aa-fd5d3e152a93/download/operacoes-financiamento-operacoes-indiretas-automaticas.csv\",\n",
        "       \"operacoes-nao-automaticas\": \"https://dadosabertos.bndes.gov.br/dataset/0f335c85-92a8-4343-9423-f073fb40774e/resource/332d446e-d340-46ef-af64-ee6f36e7bd50/download/operacoes-financiamento-operacoes-nao-automaticas.csv\"\n",
        "}"
      ],
      "execution_count": 1,
      "outputs": []
    },
    {
      "cell_type": "code",
      "metadata": {
        "id": "Be3t5QEJpSYO"
      },
      "source": [
        "arquivo = 'operacoes-automaticas'\n",
        "url_arquivo = urls['operacoes-automaticas']"
      ],
      "execution_count": 7,
      "outputs": []
    },
    {
      "cell_type": "code",
      "metadata": {
        "id": "nePm9OzWpiJZ"
      },
      "source": [
        "arq_dados = download_bndes(url_arquivo)"
      ],
      "execution_count": null,
      "outputs": []
    },
    {
      "cell_type": "code",
      "metadata": {
        "id": "BLIlNKhGpsr8",
        "colab": {
          "base_uri": "https://localhost:8080/",
          "height": 479
        },
        "outputId": "993991e7-d70e-45d1-9119-b0471b3f7214"
      },
      "source": [
        "df = pd.read_csv(arq_dados, sep=';', decimal=',', encoding='UTF-8') #parse_dates=['nome_col']\n",
        "df.head()"
      ],
      "execution_count": null,
      "outputs": [
        {
          "output_type": "execute_result",
          "data": {
            "text/html": [
              "<div>\n",
              "<style scoped>\n",
              "    .dataframe tbody tr th:only-of-type {\n",
              "        vertical-align: middle;\n",
              "    }\n",
              "\n",
              "    .dataframe tbody tr th {\n",
              "        vertical-align: top;\n",
              "    }\n",
              "\n",
              "    .dataframe thead th {\n",
              "        text-align: right;\n",
              "    }\n",
              "</style>\n",
              "<table border=\"1\" class=\"dataframe\">\n",
              "  <thead>\n",
              "    <tr style=\"text-align: right;\">\n",
              "      <th></th>\n",
              "      <th>cliente</th>\n",
              "      <th>cnpj</th>\n",
              "      <th>descricao_do_projeto</th>\n",
              "      <th>uf</th>\n",
              "      <th>municipio</th>\n",
              "      <th>municipio_codigo</th>\n",
              "      <th>numero_do_contrato</th>\n",
              "      <th>data_da_contratacao</th>\n",
              "      <th>valor_contratado_reais</th>\n",
              "      <th>valor_desembolsado_reais</th>\n",
              "      <th>fonte_de_recurso_desembolsos</th>\n",
              "      <th>custo_financeiro</th>\n",
              "      <th>juros</th>\n",
              "      <th>prazo_carencia_meses</th>\n",
              "      <th>prazo_amortizacao_meses</th>\n",
              "      <th>modalidade_de_apoio</th>\n",
              "      <th>forma_de_apoio</th>\n",
              "      <th>produto</th>\n",
              "      <th>instrumento_financeiro</th>\n",
              "      <th>inovacao</th>\n",
              "      <th>area_operacional</th>\n",
              "      <th>setor_cnae</th>\n",
              "      <th>subsetor_cnae_agrupado</th>\n",
              "      <th>subsetor_cnae_codigo</th>\n",
              "      <th>subsetor_cnae_nome</th>\n",
              "      <th>setor_bndes</th>\n",
              "      <th>subsetor_bndes</th>\n",
              "      <th>porte_do_cliente</th>\n",
              "      <th>natureza_do_cliente</th>\n",
              "      <th>instituicao_financeira_credenciada</th>\n",
              "      <th>cnpj_da_instituicao_financeira_credenciada</th>\n",
              "      <th>tipo_de_garantia</th>\n",
              "      <th>tipo_de_excepcionalidade</th>\n",
              "      <th>situacao_do_contrato</th>\n",
              "    </tr>\n",
              "  </thead>\n",
              "  <tbody>\n",
              "    <tr>\n",
              "      <th>0</th>\n",
              "      <td>MUNICIPIO DE RIBEIRAO PRETO</td>\n",
              "      <td>56.024.581/0001-56</td>\n",
              "      <td>PROGRAMA DE MODERNIZACAO DA ADMINISTRACAO TRIB...</td>\n",
              "      <td>SP</td>\n",
              "      <td>RIBEIRAO PRETO</td>\n",
              "      <td>3543402</td>\n",
              "      <td>1247021</td>\n",
              "      <td>2002-01-02</td>\n",
              "      <td>9090000.00</td>\n",
              "      <td>9007445.10</td>\n",
              "      <td>RECURSOS VINCULADOS - PIS/PASEP</td>\n",
              "      <td>TJLP</td>\n",
              "      <td>2.5</td>\n",
              "      <td>24</td>\n",
              "      <td>72</td>\n",
              "      <td>REEMBOLSÁVEL</td>\n",
              "      <td>DIRETA</td>\n",
              "      <td>BNDES FINEM</td>\n",
              "      <td>BNDES PMAT</td>\n",
              "      <td>NÃO</td>\n",
              "      <td>AREA DE GESTAO PUBLICA E SOCIOAMBIENTAL</td>\n",
              "      <td>COMERCIO E SERVICOS</td>\n",
              "      <td>ADMINISTRAÇÃO PÚBLICA</td>\n",
              "      <td>O8411600</td>\n",
              "      <td>ADMINISTRACAO PUBLICA EM GERAL                ...</td>\n",
              "      <td>COMERCIO/SERVICOS</td>\n",
              "      <td>COMÉRCIO E SERVIÇOS</td>\n",
              "      <td>GRANDE</td>\n",
              "      <td>ADMINISTRAÇÃO PÚBLICA DIRETA - GOVERNO MUNICIPAL</td>\n",
              "      <td>----------</td>\n",
              "      <td>----------</td>\n",
              "      <td>OUTRA, DE NATUREZA ESPECÍFICA OU MISTA</td>\n",
              "      <td>----------</td>\n",
              "      <td>LIQUIDADO</td>\n",
              "    </tr>\n",
              "    <tr>\n",
              "      <th>1</th>\n",
              "      <td>INSTITUTO DE DESENVOLVIMENTO SUSTENTAVEL DO BA...</td>\n",
              "      <td>02.275.306/0001-86</td>\n",
              "      <td>PROJETO DIREITO E CIDADANIA; PROJETO DEMONSTRA...</td>\n",
              "      <td>BA</td>\n",
              "      <td>ITUBERA</td>\n",
              "      <td>2917300</td>\n",
              "      <td>1247221</td>\n",
              "      <td>2002-01-03</td>\n",
              "      <td>706600.00</td>\n",
              "      <td>745030.36</td>\n",
              "      <td>RECURSOS ESTATUTÁRIOS - PRÓPRIOS ESTATUTÁRIOS</td>\n",
              "      <td>SEM CUSTO</td>\n",
              "      <td>0.0</td>\n",
              "      <td>0</td>\n",
              "      <td>0</td>\n",
              "      <td>NÃO REEMBOLSÁVEL</td>\n",
              "      <td>DIRETA</td>\n",
              "      <td>BNDES NÃO REEMBOLSÁVEL</td>\n",
              "      <td>FUNDO SOCIAL</td>\n",
              "      <td>NÃO</td>\n",
              "      <td>AREA DE GESTAO PUBLICA E SOCIOAMBIENTAL</td>\n",
              "      <td>COMERCIO E SERVICOS</td>\n",
              "      <td>SAÚDE E SERV SOCIAL</td>\n",
              "      <td>Q8700000</td>\n",
              "      <td>ATIV ATENCAO A SAUDE HUMANA INTEGR C/ASSIST SO...</td>\n",
              "      <td>COMERCIO/SERVICOS</td>\n",
              "      <td>COMÉRCIO E SERVIÇOS</td>\n",
              "      <td>MICRO</td>\n",
              "      <td>PRIVADA</td>\n",
              "      <td>----------</td>\n",
              "      <td>----------</td>\n",
              "      <td>NÃO SE APLICA</td>\n",
              "      <td>----------</td>\n",
              "      <td>LIQUIDADO</td>\n",
              "    </tr>\n",
              "    <tr>\n",
              "      <th>2</th>\n",
              "      <td>INSTITUTO DE DESENVOLVIMENTO SUSTENTAVEL DO BA...</td>\n",
              "      <td>02.275.306/0001-86</td>\n",
              "      <td>PROJETO DIREITO E CIDADANIA; PROJETO DEMONSTRA...</td>\n",
              "      <td>BA</td>\n",
              "      <td>ITUBERA</td>\n",
              "      <td>2917300</td>\n",
              "      <td>1247221</td>\n",
              "      <td>2002-01-03</td>\n",
              "      <td>75691.59</td>\n",
              "      <td>78500.00</td>\n",
              "      <td>RECURSOS ESTATUTÁRIOS - PRÓPRIOS ESTATUTÁRIOS</td>\n",
              "      <td>SEM CUSTO</td>\n",
              "      <td>0.0</td>\n",
              "      <td>0</td>\n",
              "      <td>0</td>\n",
              "      <td>NÃO REEMBOLSÁVEL</td>\n",
              "      <td>DIRETA</td>\n",
              "      <td>BNDES NÃO REEMBOLSÁVEL</td>\n",
              "      <td>FUNDO SOCIAL</td>\n",
              "      <td>NÃO</td>\n",
              "      <td>AREA DE GESTAO PUBLICA E SOCIOAMBIENTAL</td>\n",
              "      <td>COMERCIO E SERVICOS</td>\n",
              "      <td>SAÚDE E SERV SOCIAL</td>\n",
              "      <td>Q8700000</td>\n",
              "      <td>ATIV ATENCAO A SAUDE HUMANA INTEGR C/ASSIST SO...</td>\n",
              "      <td>COMERCIO/SERVICOS</td>\n",
              "      <td>COMÉRCIO E SERVIÇOS</td>\n",
              "      <td>MICRO</td>\n",
              "      <td>PRIVADA</td>\n",
              "      <td>----------</td>\n",
              "      <td>----------</td>\n",
              "      <td>NÃO SE APLICA</td>\n",
              "      <td>----------</td>\n",
              "      <td>LIQUIDADO</td>\n",
              "    </tr>\n",
              "    <tr>\n",
              "      <th>3</th>\n",
              "      <td>INSTITUTO DE DESENVOLVIMENTO SUSTENTAVEL DO BA...</td>\n",
              "      <td>02.275.306/0001-86</td>\n",
              "      <td>PROJETO DIREITO E CIDADANIA; PROJETO DEMONSTRA...</td>\n",
              "      <td>BA</td>\n",
              "      <td>ITUBERA</td>\n",
              "      <td>2917300</td>\n",
              "      <td>1247221</td>\n",
              "      <td>2002-01-03</td>\n",
              "      <td>603981.41</td>\n",
              "      <td>653834.69</td>\n",
              "      <td>RECURSOS ESTATUTÁRIOS - PRÓPRIOS ESTATUTÁRIOS</td>\n",
              "      <td>SEM CUSTO</td>\n",
              "      <td>0.0</td>\n",
              "      <td>0</td>\n",
              "      <td>0</td>\n",
              "      <td>NÃO REEMBOLSÁVEL</td>\n",
              "      <td>DIRETA</td>\n",
              "      <td>BNDES NÃO REEMBOLSÁVEL</td>\n",
              "      <td>FUNDO SOCIAL</td>\n",
              "      <td>NÃO</td>\n",
              "      <td>AREA DE GESTAO PUBLICA E SOCIOAMBIENTAL</td>\n",
              "      <td>COMERCIO E SERVICOS</td>\n",
              "      <td>SAÚDE E SERV SOCIAL</td>\n",
              "      <td>Q8700000</td>\n",
              "      <td>ATIV ATENCAO A SAUDE HUMANA INTEGR C/ASSIST SO...</td>\n",
              "      <td>COMERCIO/SERVICOS</td>\n",
              "      <td>COMÉRCIO E SERVIÇOS</td>\n",
              "      <td>MICRO</td>\n",
              "      <td>PRIVADA</td>\n",
              "      <td>----------</td>\n",
              "      <td>----------</td>\n",
              "      <td>NÃO SE APLICA</td>\n",
              "      <td>----------</td>\n",
              "      <td>LIQUIDADO</td>\n",
              "    </tr>\n",
              "    <tr>\n",
              "      <th>4</th>\n",
              "      <td>ACEF S/A</td>\n",
              "      <td>46.722.831/0001-78</td>\n",
              "      <td>AQUISICAO DE EQUIPAMENTOS NACIONAIS E MOBILIAR...</td>\n",
              "      <td>SP</td>\n",
              "      <td>FRANCA</td>\n",
              "      <td>3516200</td>\n",
              "      <td>1255421</td>\n",
              "      <td>2002-01-09</td>\n",
              "      <td>340201.00</td>\n",
              "      <td>340189.32</td>\n",
              "      <td>RECURSOS LIVRES - FAT</td>\n",
              "      <td>TJLP</td>\n",
              "      <td>4.0</td>\n",
              "      <td>24</td>\n",
              "      <td>96</td>\n",
              "      <td>REEMBOLSÁVEL</td>\n",
              "      <td>INDIRETA</td>\n",
              "      <td>BNDES FINEM</td>\n",
              "      <td>PROGRAMA IES</td>\n",
              "      <td>NÃO</td>\n",
              "      <td>AREA DE GESTAO PUBLICA E SOCIOAMBIENTAL</td>\n",
              "      <td>COMERCIO E SERVICOS</td>\n",
              "      <td>EDUCAÇÃO</td>\n",
              "      <td>P8531700</td>\n",
              "      <td>EDUCACAO SUPERIOR - GRADUACAO                 ...</td>\n",
              "      <td>COMERCIO/SERVICOS</td>\n",
              "      <td>COMÉRCIO E SERVIÇOS</td>\n",
              "      <td>GRANDE</td>\n",
              "      <td>PRIVADA</td>\n",
              "      <td>BANCO BRADESCO S.A.</td>\n",
              "      <td>60746948000112</td>\n",
              "      <td>DEFINIDA PELO AGENTE FINANCEIRO</td>\n",
              "      <td>----------</td>\n",
              "      <td>LIQUIDADO</td>\n",
              "    </tr>\n",
              "  </tbody>\n",
              "</table>\n",
              "</div>"
            ],
            "text/plain": [
              "                                             cliente  ... situacao_do_contrato\n",
              "0                        MUNICIPIO DE RIBEIRAO PRETO  ...            LIQUIDADO\n",
              "1  INSTITUTO DE DESENVOLVIMENTO SUSTENTAVEL DO BA...  ...            LIQUIDADO\n",
              "2  INSTITUTO DE DESENVOLVIMENTO SUSTENTAVEL DO BA...  ...            LIQUIDADO\n",
              "3  INSTITUTO DE DESENVOLVIMENTO SUSTENTAVEL DO BA...  ...            LIQUIDADO\n",
              "4                                           ACEF S/A  ...            LIQUIDADO\n",
              "\n",
              "[5 rows x 34 columns]"
            ]
          },
          "metadata": {
            "tags": []
          },
          "execution_count": 15
        }
      ]
    },
    {
      "cell_type": "code",
      "metadata": {
        "id": "U3jaYVa0qvQN",
        "colab": {
          "base_uri": "https://localhost:8080/"
        },
        "outputId": "1ff57201-0b7f-4950-f312-4214cdcd4359"
      },
      "source": [
        "df.info()"
      ],
      "execution_count": null,
      "outputs": [
        {
          "output_type": "stream",
          "text": [
            "<class 'pandas.core.frame.DataFrame'>\n",
            "RangeIndex: 19565 entries, 0 to 19564\n",
            "Data columns (total 34 columns):\n",
            " #   Column                                      Non-Null Count  Dtype  \n",
            "---  ------                                      --------------  -----  \n",
            " 0   cliente                                     19565 non-null  object \n",
            " 1   cnpj                                        19565 non-null  object \n",
            " 2   descricao_do_projeto                        19565 non-null  object \n",
            " 3   uf                                          19565 non-null  object \n",
            " 4   municipio                                   19565 non-null  object \n",
            " 5   municipio_codigo                            19565 non-null  int64  \n",
            " 6   numero_do_contrato                          19565 non-null  int64  \n",
            " 7   data_da_contratacao                         19565 non-null  object \n",
            " 8   valor_contratado_reais                      19565 non-null  float64\n",
            " 9   valor_desembolsado_reais                    19565 non-null  float64\n",
            " 10  fonte_de_recurso_desembolsos                19565 non-null  object \n",
            " 11  custo_financeiro                            19565 non-null  object \n",
            " 12  juros                                       19565 non-null  float64\n",
            " 13  prazo_carencia_meses                        19565 non-null  int64  \n",
            " 14  prazo_amortizacao_meses                     19565 non-null  int64  \n",
            " 15  modalidade_de_apoio                         19565 non-null  object \n",
            " 16  forma_de_apoio                              19565 non-null  object \n",
            " 17  produto                                     19565 non-null  object \n",
            " 18  instrumento_financeiro                      19565 non-null  object \n",
            " 19  inovacao                                    19565 non-null  object \n",
            " 20  area_operacional                            19565 non-null  object \n",
            " 21  setor_cnae                                  19565 non-null  object \n",
            " 22  subsetor_cnae_agrupado                      19565 non-null  object \n",
            " 23  subsetor_cnae_codigo                        19565 non-null  object \n",
            " 24  subsetor_cnae_nome                          19565 non-null  object \n",
            " 25  setor_bndes                                 19565 non-null  object \n",
            " 26  subsetor_bndes                              19565 non-null  object \n",
            " 27  porte_do_cliente                            19565 non-null  object \n",
            " 28  natureza_do_cliente                         19565 non-null  object \n",
            " 29  instituicao_financeira_credenciada          19565 non-null  object \n",
            " 30  cnpj_da_instituicao_financeira_credenciada  19565 non-null  object \n",
            " 31  tipo_de_garantia                            19565 non-null  object \n",
            " 32  tipo_de_excepcionalidade                    19565 non-null  object \n",
            " 33  situacao_do_contrato                        19565 non-null  object \n",
            "dtypes: float64(3), int64(4), object(27)\n",
            "memory usage: 5.1+ MB\n"
          ],
          "name": "stdout"
        }
      ]
    },
    {
      "cell_type": "code",
      "metadata": {
        "id": "bqmFjc1cE0K7"
      },
      "source": [
        "df.to_parquet(\"dados/{arquivo}.parquet\",engine='pyarrow',compression='gzip')"
      ],
      "execution_count": null,
      "outputs": []
    }
  ]
}