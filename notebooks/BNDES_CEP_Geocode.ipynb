{
  "nbformat": 4,
  "nbformat_minor": 0,
  "metadata": {
    "colab": {
      "name": "BNDES CEP Geocode",
      "provenance": [],
      "collapsed_sections": []
    },
    "kernelspec": {
      "name": "python3",
      "display_name": "Python 3"
    },
    "language_info": {
      "name": "python"
    }
  },
  "cells": [
    {
      "cell_type": "code",
      "metadata": {
        "colab": {
          "base_uri": "https://localhost:8080/"
        },
        "id": "wO3QisEMy4pM",
        "outputId": "a33506e1-2894-49de-846e-9ff3a0fdd3a7"
      },
      "source": [
        "!pip install pycep_correios\n",
        "!pip install geopy"
      ],
      "execution_count": 1,
      "outputs": [
        {
          "output_type": "stream",
          "name": "stdout",
          "text": [
            "Collecting pycep_correios\n",
            "  Downloading pycep_correios-5.0.0-py2.py3-none-any.whl (7.1 kB)\n",
            "Collecting zeep>=2.0.0\n",
            "  Downloading zeep-4.1.0-py2.py3-none-any.whl (100 kB)\n",
            "\u001b[K     |████████████████████████████████| 100 kB 4.7 MB/s \n",
            "\u001b[?25hRequirement already satisfied: requests>=2.7.0 in /usr/local/lib/python3.7/dist-packages (from pycep_correios) (2.23.0)\n",
            "Requirement already satisfied: chardet<4,>=3.0.2 in /usr/local/lib/python3.7/dist-packages (from requests>=2.7.0->pycep_correios) (3.0.4)\n",
            "Requirement already satisfied: certifi>=2017.4.17 in /usr/local/lib/python3.7/dist-packages (from requests>=2.7.0->pycep_correios) (2021.5.30)\n",
            "Requirement already satisfied: idna<3,>=2.5 in /usr/local/lib/python3.7/dist-packages (from requests>=2.7.0->pycep_correios) (2.10)\n",
            "Requirement already satisfied: urllib3!=1.25.0,!=1.25.1,<1.26,>=1.21.1 in /usr/local/lib/python3.7/dist-packages (from requests>=2.7.0->pycep_correios) (1.24.3)\n",
            "Requirement already satisfied: attrs>=17.2.0 in /usr/local/lib/python3.7/dist-packages (from zeep>=2.0.0->pycep_correios) (21.2.0)\n",
            "Collecting requests-file>=1.5.1\n",
            "  Downloading requests_file-1.5.1-py2.py3-none-any.whl (3.7 kB)\n",
            "Collecting lxml>=4.6.0\n",
            "  Downloading lxml-4.6.3-cp37-cp37m-manylinux2014_x86_64.whl (6.3 MB)\n",
            "\u001b[K     |████████████████████████████████| 6.3 MB 41.4 MB/s \n",
            "\u001b[?25hRequirement already satisfied: pytz in /usr/local/lib/python3.7/dist-packages (from zeep>=2.0.0->pycep_correios) (2018.9)\n",
            "Collecting platformdirs>=1.4.0\n",
            "  Downloading platformdirs-2.3.0-py3-none-any.whl (13 kB)\n",
            "Collecting isodate>=0.5.4\n",
            "  Downloading isodate-0.6.0-py2.py3-none-any.whl (45 kB)\n",
            "\u001b[K     |████████████████████████████████| 45 kB 1.9 MB/s \n",
            "\u001b[?25hCollecting requests-toolbelt>=0.7.1\n",
            "  Downloading requests_toolbelt-0.9.1-py2.py3-none-any.whl (54 kB)\n",
            "\u001b[K     |████████████████████████████████| 54 kB 3.1 MB/s \n",
            "\u001b[?25hRequirement already satisfied: cached-property>=1.3.0 in /usr/local/lib/python3.7/dist-packages (from zeep>=2.0.0->pycep_correios) (1.5.2)\n",
            "Requirement already satisfied: six in /usr/local/lib/python3.7/dist-packages (from isodate>=0.5.4->zeep>=2.0.0->pycep_correios) (1.15.0)\n",
            "Installing collected packages: requests-toolbelt, requests-file, platformdirs, lxml, isodate, zeep, pycep-correios\n",
            "  Attempting uninstall: lxml\n",
            "    Found existing installation: lxml 4.2.6\n",
            "    Uninstalling lxml-4.2.6:\n",
            "      Successfully uninstalled lxml-4.2.6\n",
            "Successfully installed isodate-0.6.0 lxml-4.6.3 platformdirs-2.3.0 pycep-correios-5.0.0 requests-file-1.5.1 requests-toolbelt-0.9.1 zeep-4.1.0\n",
            "Requirement already satisfied: geopy in /usr/local/lib/python3.7/dist-packages (1.17.0)\n",
            "Requirement already satisfied: geographiclib<2,>=1.49 in /usr/local/lib/python3.7/dist-packages (from geopy) (1.52)\n"
          ]
        }
      ]
    },
    {
      "cell_type": "code",
      "metadata": {
        "id": "LOtmn7W4puvH"
      },
      "source": [
        "import pandas as pd\n",
        "import pycep_correios\n",
        "from geopy.geocoders import Nominatim\n",
        "from geopy.extra.rate_limiter import RateLimiter"
      ],
      "execution_count": 2,
      "outputs": []
    },
    {
      "cell_type": "code",
      "metadata": {
        "id": "2K36GjprIYL-"
      },
      "source": [
        "app_name = \"meu_bndes_app\""
      ],
      "execution_count": 14,
      "outputs": []
    },
    {
      "cell_type": "code",
      "metadata": {
        "id": "cEXAPbhRHC1X"
      },
      "source": [
        "# Return address from zip code\n",
        "def get_address_by_zip(zip):\n",
        "    address = pycep_correios.get_address_from_cep(zip)\n",
        "    full_address = address['logradouro'] + \", \" + address['bairro'] + \", \" + address['cidade'] + \" - \" + address['uf']\n",
        "    return full_address\n",
        "\n",
        "# Return location by address\n",
        "def get_geolocation_by_address(address):\n",
        "    geolocator = Nominatim(user_agent=app_name)\n",
        "    return geolocator.geocode(address)\n",
        "\n",
        "# Return coordinates by address\n",
        "def get_coordinates_by_address(address):\n",
        "    return get_geolocation_by_address(address).point\n",
        "\n",
        "# Return coordinates by zip\n",
        "def get_coordinates_by_zip(zip):\n",
        "    address = get_address_by_zip(zip)\n",
        "    return get_geolocation_by_address(address).point"
      ],
      "execution_count": 15,
      "outputs": []
    },
    {
      "cell_type": "code",
      "metadata": {
        "colab": {
          "base_uri": "https://localhost:8080/"
        },
        "id": "9vhsNbgiE_bz",
        "outputId": "b2a2bcc8-38e4-4cdc-917c-f8e986313f0e"
      },
      "source": [
        "get_coordinates_by_zip('31170360')"
      ],
      "execution_count": 16,
      "outputs": [
        {
          "output_type": "execute_result",
          "data": {
            "text/plain": [
              "Point(-19.8863658, -43.927372, 0.0)"
            ]
          },
          "metadata": {},
          "execution_count": 16
        }
      ]
    },
    {
      "cell_type": "code",
      "metadata": {
        "colab": {
          "base_uri": "https://localhost:8080/",
          "height": 111
        },
        "id": "-cBiiwWzE1RY",
        "outputId": "8a50c439-f250-462c-f05b-735cd3d8d245"
      },
      "source": [
        "# DataFrame test\n",
        "df = pd.DataFrame({'CEP': ['31170360', '31080300']})\n",
        "\n",
        "# Troque test_app pelo nome da sua aplicação/sistema\n",
        "# geolocator = Nominatim(user_agent=\"meu_bndes_app\")\n",
        "# geocode = RateLimiter(geolocator.geocode, min_delay_seconds=1)\n",
        "\n",
        "# Cria a coluna address com os endereços retornados a partir do CEP\n",
        "df['address'] = df['CEP'].apply(get_address_by_zip)\n",
        "\n",
        "# Cria a coluna location com o local retornado a partir do endereço\n",
        "df['geocode'] = df['address'].apply(get_geolocation_by_address)\n",
        "\n",
        "# Seleciona a latitude e longitude que está dentro do local\n",
        "df['loc'] = df['geocode'].apply(lambda loc: tuple(loc.point) if loc else None)\n",
        "df"
      ],
      "execution_count": 18,
      "outputs": [
        {
          "output_type": "execute_result",
          "data": {
            "text/html": [
              "<div>\n",
              "<style scoped>\n",
              "    .dataframe tbody tr th:only-of-type {\n",
              "        vertical-align: middle;\n",
              "    }\n",
              "\n",
              "    .dataframe tbody tr th {\n",
              "        vertical-align: top;\n",
              "    }\n",
              "\n",
              "    .dataframe thead th {\n",
              "        text-align: right;\n",
              "    }\n",
              "</style>\n",
              "<table border=\"1\" class=\"dataframe\">\n",
              "  <thead>\n",
              "    <tr style=\"text-align: right;\">\n",
              "      <th></th>\n",
              "      <th>CEP</th>\n",
              "      <th>address</th>\n",
              "      <th>geocode</th>\n",
              "      <th>loc</th>\n",
              "    </tr>\n",
              "  </thead>\n",
              "  <tbody>\n",
              "    <tr>\n",
              "      <th>0</th>\n",
              "      <td>31170360</td>\n",
              "      <td>Rua Júlio Pereira da Silva, Cidade Nova, Belo ...</td>\n",
              "      <td>(Rua Júlio Pereira da Silva, Cidade Nova, Regi...</td>\n",
              "      <td>(-19.8863658, -43.927372, 0.0)</td>\n",
              "    </tr>\n",
              "    <tr>\n",
              "      <th>1</th>\n",
              "      <td>31080300</td>\n",
              "      <td>Rua Matutina, Santa Inês, Belo Horizonte - MG</td>\n",
              "      <td>(Rua Matutina, Ana Lúcia, Santa Inês, Regional...</td>\n",
              "      <td>(-19.8840787, -43.9079954, 0.0)</td>\n",
              "    </tr>\n",
              "  </tbody>\n",
              "</table>\n",
              "</div>"
            ],
            "text/plain": [
              "        CEP  ...                              loc\n",
              "0  31170360  ...   (-19.8863658, -43.927372, 0.0)\n",
              "1  31080300  ...  (-19.8840787, -43.9079954, 0.0)\n",
              "\n",
              "[2 rows x 4 columns]"
            ]
          },
          "metadata": {},
          "execution_count": 18
        }
      ]
    }
  ]
}