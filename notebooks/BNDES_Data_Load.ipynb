{
  "nbformat": 4,
  "nbformat_minor": 0,
  "metadata": {
    "colab": {
      "name": "BNDES Data Load",
      "provenance": [],
      "collapsed_sections": []
    },
    "kernelspec": {
      "display_name": "Python 3",
      "name": "python3"
    },
    "language_info": {
      "name": "python"
    }
  },
  "cells": [
    {
      "cell_type": "code",
      "metadata": {
        "id": "026FNxTaNyPi"
      },
      "source": [
        "!pip install azure-cosmos"
      ],
      "execution_count": null,
      "outputs": []
    },
    {
      "cell_type": "code",
      "metadata": {
        "id": "31_CkAxsNzNe"
      },
      "source": [
        "from os import getenv\n",
        "import json\n",
        "import pandas as pd\n",
        "import uuid\n",
        "import hashlib\n",
        "\n",
        "from azure.cosmos import CosmosClient, PartitionKey\n",
        "import azure.cosmos.errors as errors\n",
        "import azure.cosmos.documents as documents\n",
        "import azure.cosmos.http_constants as http_constants"
      ],
      "execution_count": null,
      "outputs": []
    },
    {
      "cell_type": "code",
      "metadata": {
        "id": "niAVncASN40c"
      },
      "source": [
        "CONFIG = {\n",
        "    \"endpoint\": \"https://db-nosql.documents.azure.com:443/\",\n",
        "    \"database\" : \"meubndes\",\n",
        "    \"container\" : \"operacoes\",\n",
        "    \"masterkey\": \"bQPdXS0y1GLPLeCh2neFzdNX9bd6RKq1J8pTjzsRQG8Tf7DV0xyOe24lwtRTKwF6NbXHV9JRBACIOvfHPHOOHw==\",\n",
        "    \"readkey\" : \"Q9ikAx2k6puQIrVHHN1xosrfAF0amUqTmBC724wJdNxTP3JGNKnQMpixOOkHhgWiVyCMi4xZup7rMeetig1eWg==\"\n",
        "}\n",
        "\n",
        "CONTAINER_LINK = f\"dbs/{CONFIG['database']}/colls/{CONFIG['container']}\"\n",
        "FEEDOPTIONS = {}\n",
        "FEEDOPTIONS[\"enableCrossPartitionQuery\"] = True\n",
        "# There is also a partitionKey Feed Option, but I was unable to figure out how to us it."
      ],
      "execution_count": null,
      "outputs": []
    },
    {
      "cell_type": "code",
      "metadata": {
        "id": "Usu2IMbkOCFK"
      },
      "source": [
        "#Generate hash key\n",
        "def get_hash_from_string(s):\n",
        "    m = hashlib.md5() #sha256\n",
        "    m.update(str.encode(s))\n",
        "    return m.hexdigest()"
      ],
      "execution_count": null,
      "outputs": []
    },
    {
      "cell_type": "code",
      "metadata": {
        "id": "UnGQZMtPIwkn"
      },
      "source": [
        "# Initialize the Cosmos client\n",
        "client = CosmosClient(\n",
        "    CONFIG[\"endpoint\"], {\"masterKey\": CONFIG[\"masterkey\"]}\n",
        ")\n",
        "\n",
        "# Create a database if not exists\n",
        "DATABASE = client.create_database_if_not_exists(id=CONFIG['database'])\n",
        "\n",
        "# Create a collection of items in a Container if not exists\n",
        "CONTAINER = DATABASE.create_container_if_not_exists(\n",
        "    id=CONFIG['container'],\n",
        "    partition_key=PartitionKey(path='/id'),\n",
        "    offer_throughput=400\n",
        ")"
      ],
      "execution_count": null,
      "outputs": []
    },
    {
      "cell_type": "code",
      "metadata": {
        "id": "IzRLb9LwVfZQ"
      },
      "source": [
        "def get_items(item_id=None):\n",
        "    query = 'SELECT * FROM c'\n",
        "    if item_id:\n",
        "        query += ' WHERE c.id = @item_id'\n",
        "\n",
        "    params = {\n",
        "        'query': query,\n",
        "        'parameters': [{\"name\": \"@item_id\", \"value\": str(item_id)}],\n",
        "        'enable_cross_partition_query': True\n",
        "    }\n",
        "    res = CONTAINER.query_items(**params)\n",
        "    return list(res)\n",
        "\n",
        "def create_item(item):\n",
        "    item['id'] = str(uuid.uuid4())\n",
        "    CONTAINER.create_item(body=item)\n",
        "    return item\n",
        "\n",
        "def delete_item(item_id):\n",
        "    res = get_items(item_id)\n",
        "    if not res:\n",
        "        return False\n",
        "    item = res[0]\n",
        "    CONTAINER.delete_item(item, partition_key=item['category'])\n",
        "    return True\n",
        "\n",
        "def complete_item(item_id, is_complete=True):\n",
        "    res = get_items(item_id)\n",
        "    if not res:\n",
        "        return False\n",
        "    item = res[0]\n",
        "    new_item = item\n",
        "    new_item['isComplete'] = is_complete\n",
        "    CONTAINER.replace_item(item, new_item)\n",
        "    return True"
      ],
      "execution_count": null,
      "outputs": []
    },
    {
      "cell_type": "code",
      "metadata": {
        "colab": {
          "base_uri": "https://localhost:8080/"
        },
        "id": "1gzN4gj_K92U",
        "outputId": "da28c76f-99d5-4478-be13-ca71f1e5110e"
      },
      "source": [
        "from google.colab import drive\n",
        "drive.mount('/gdrive')\n",
        "%cd /gdrive"
      ],
      "execution_count": null,
      "outputs": [
        {
          "output_type": "stream",
          "name": "stdout",
          "text": [
            "Mounted at /gdrive\n",
            "/gdrive\n"
          ]
        }
      ]
    },
    {
      "cell_type": "code",
      "metadata": {
        "id": "JqqiVXxYKjRt"
      },
      "source": [
        "# Download and read csv file\n",
        "df = pd.read_parquet('/gdrive/MyDrive/BNDES/OPERACOES/operacoes-automaticas.parquet')"
      ],
      "execution_count": null,
      "outputs": []
    },
    {
      "cell_type": "code",
      "metadata": {
        "id": "3_KOYsFjKifF"
      },
      "source": [
        "# Reset index - creates a column called 'index'\n",
        "df = df.reset_index()\n",
        "# Rename that new column 'id'\n",
        "# Cosmos DB needs one column named 'id'. \n",
        "df = df.rename(columns={'index':'id'})\n",
        "# Convert the id column to a string - this is a document database.\n",
        "df['id'] = df['id'].astype(str)\n",
        "#df['oid'] = get_hash_from_string(str(df['cliente']+\"-\"+df['data_da_contratacao']))"
      ],
      "execution_count": null,
      "outputs": []
    },
    {
      "cell_type": "code",
      "metadata": {
        "id": "DGtsYNrGfJp8"
      },
      "source": [
        "# Fill NaN\n",
        "df = df.fillna(0)"
      ],
      "execution_count": null,
      "outputs": []
    },
    {
      "cell_type": "code",
      "metadata": {
        "id": "HMIeMIjHNQOi"
      },
      "source": [
        "df.head()"
      ],
      "execution_count": null,
      "outputs": []
    },
    {
      "cell_type": "code",
      "metadata": {
        "id": "5wNQ-w6p1oey"
      },
      "source": [
        "#df_BH = df[df['municipio'] == 'BELO HORIZONTE']\n",
        "#df_BH.info()"
      ],
      "execution_count": null,
      "outputs": []
    },
    {
      "cell_type": "code",
      "metadata": {
        "id": "wo8bo2VBQS4l"
      },
      "source": [
        "import numpy as np\n",
        "\n",
        "class NpEncoder(json.JSONEncoder):\n",
        "    def default(self, obj):\n",
        "        if isinstance(obj, np.integer):\n",
        "            return int(obj)\n",
        "        if isinstance(obj, np.floating):\n",
        "            return float(obj)\n",
        "        if isinstance(obj, np.ndarray):\n",
        "            return obj.tolist()\n",
        "        return super(NpEncoder, self).default(obj)"
      ],
      "execution_count": null,
      "outputs": []
    },
    {
      "cell_type": "code",
      "metadata": {
        "id": "xLSCQIXFLmBx",
        "colab": {
          "base_uri": "https://localhost:8080/"
        },
        "outputId": "1dfa794d-da3e-481a-85aa-791b324aaff7"
      },
      "source": [
        "# https://docs.microsoft.com/en-us/python/api/azure-cosmos/azure.cosmos.cosmos_client.cosmosclient?view=azure-python#upsertitem-database-or-container-link--document--options-none-\n",
        "# Write rows of a pandas DataFrame as items to the Database Container\n",
        "for i in range(0,df.shape[0]):\n",
        "    # create a dictionary for the selected row\n",
        "    data_dict = dict(df.iloc[i,:])\n",
        "    # convert the dictionary to a json object.\n",
        "    data_dict = json.dumps(data_dict, cls=NpEncoder)\n",
        "    #print(data_dict)\n",
        "    insert_data = create_item(json.loads(data_dict))\n",
        "print('Records inserted successfully.')"
      ],
      "execution_count": null,
      "outputs": [
        {
          "output_type": "stream",
          "name": "stdout",
          "text": [
            "Records inserted successfully.\n"
          ]
        }
      ]
    }
  ]
}