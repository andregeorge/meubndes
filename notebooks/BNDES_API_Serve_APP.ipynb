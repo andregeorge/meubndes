{
  "nbformat": 4,
  "nbformat_minor": 0,
  "metadata": {
    "colab": {
      "name": "BNDES API Serve APP",
      "provenance": [],
      "collapsed_sections": []
    },
    "kernelspec": {
      "display_name": "Python 3",
      "name": "python3"
    },
    "language_info": {
      "name": "python"
    }
  },
  "cells": [
    {
      "cell_type": "code",
      "metadata": {
        "id": "026FNxTaNyPi"
      },
      "source": [
        "!pip install azure-cosmos\n",
        "!pip install fastapi\n",
        "!pip install colabcode"
      ],
      "execution_count": null,
      "outputs": []
    },
    {
      "cell_type": "code",
      "metadata": {
        "id": "31_CkAxsNzNe"
      },
      "source": [
        "from os import getenv\n",
        "import json\n",
        "import pandas as pd\n",
        "import uuid\n",
        "\n",
        "from azure.cosmos import CosmosClient, PartitionKey\n",
        "import azure.cosmos.errors as errors\n",
        "import azure.cosmos.documents as documents\n",
        "import azure.cosmos.http_constants as http_constants\n",
        "\n",
        "from fastapi import FastAPI"
      ],
      "execution_count": null,
      "outputs": []
    },
    {
      "cell_type": "code",
      "metadata": {
        "id": "niAVncASN40c"
      },
      "source": [
        "CONFIG = {\n",
        "    \"endpoint\": \"https://db-nosql.documents.azure.com:443/\",\n",
        "    \"database\" : \"meubndes\",\n",
        "    \"container\" : \"operacoes\",\n",
        "    \"readkey\" : \"Q9ikAx2k6puQIrVHHN1xosrfAF0amUqTmBC724wJdNxTP3JGNKnQMpixOOkHhgWiVyCMi4xZup7rMeetig1eWg==\"\n",
        "}\n",
        "\n",
        "CONTAINER_LINK = f\"dbs/{CONFIG['database']}/colls/{CONFIG['container']}\"\n",
        "FEEDOPTIONS = {}\n",
        "FEEDOPTIONS[\"enableCrossPartitionQuery\"] = True\n",
        "# There is also a partitionKey Feed Option, but I was unable to figure out how to us it."
      ],
      "execution_count": null,
      "outputs": []
    },
    {
      "cell_type": "code",
      "metadata": {
        "id": "Usu2IMbkOCFK"
      },
      "source": [
        "QUERY = {\n",
        "    \"query\": f\"SELECT * from c\"\n",
        "}"
      ],
      "execution_count": null,
      "outputs": []
    },
    {
      "cell_type": "code",
      "metadata": {
        "id": "UnGQZMtPIwkn"
      },
      "source": [
        "# Initialize the Cosmos client\n",
        "client = CosmosClient(\n",
        "    CONFIG[\"endpoint\"], {\"masterKey\": CONFIG[\"readkey\"]}\n",
        ")\n",
        "\n",
        "# Create a database if not exists\n",
        "DATABASE = client.create_database_if_not_exists(id=CONFIG['database'])\n",
        "\n",
        "# Create a collection of items in a Container if not exists\n",
        "CONTAINER = DATABASE.create_container_if_not_exists(\n",
        "    id=CONFIG['container'],\n",
        "    partition_key=PartitionKey(path='/id'),\n",
        "    offer_throughput=400\n",
        ")"
      ],
      "execution_count": null,
      "outputs": []
    },
    {
      "cell_type": "code",
      "metadata": {
        "id": "IzRLb9LwVfZQ"
      },
      "source": [
        "def get_query_items(query=None):\n",
        "    params = {\n",
        "      'query': query,\n",
        "      'enable_cross_partition_query': True\n",
        "    }\n",
        "    res = CONTAINER.query_items(**params)\n",
        "    return list(res)\n",
        "\n",
        "def get_items(item_id=None):\n",
        "    query = 'SELECT * FROM c'\n",
        "    if item_id:\n",
        "        query += ' WHERE c.id = @item_id'\n",
        "\n",
        "    params = {\n",
        "        'query': query,\n",
        "        'parameters': [{\"name\": \"@item_id\", \"value\": str(item_id)}],\n",
        "        'enable_cross_partition_query': True\n",
        "    }\n",
        "    res = CONTAINER.query_items(**params)\n",
        "    return list(res)\n",
        "\n",
        "\n",
        "def create_item(item):\n",
        "    item['id'] = str(uuid.uuid4())\n",
        "    CONTAINER.create_item(body=item)\n",
        "    return item\n",
        "\n",
        "\n",
        "def delete_item(item_id):\n",
        "    res = get_items(item_id)\n",
        "    if not res:\n",
        "        return False\n",
        "    item = res[0]\n",
        "    CONTAINER.delete_item(item, partition_key=item['category'])\n",
        "    return True\n",
        "\n",
        "\n",
        "def complete_item(item_id, is_complete=True):\n",
        "    res = get_items(item_id)\n",
        "    if not res:\n",
        "        return False\n",
        "    item = res[0]\n",
        "    new_item = item\n",
        "    new_item['isComplete'] = is_complete\n",
        "    CONTAINER.replace_item(item, new_item)\n",
        "    return True"
      ],
      "execution_count": null,
      "outputs": []
    },
    {
      "cell_type": "code",
      "metadata": {
        "id": "xLSCQIXFLmBx",
        "colab": {
          "base_uri": "https://localhost:8080/"
        },
        "outputId": "ba8f4d2e-1d58-42fd-af7c-047502fa3b94"
      },
      "source": [
        "print(get_query_items('select top 1 * from c where c.municipio_codigo = 3106200'))"
      ],
      "execution_count": null,
      "outputs": [
        {
          "output_type": "stream",
          "text": [
            "[{'id': 'a70f9500-70f9-4b10-9bf4-16557c068e6e', 'cliente': 'FLEXLINE INDUSTRIA E COMERCIO LTDA', 'cpf_cnpj': '**.*29.143/0001-**', 'uf': ' MG', 'municipio': 'BELO HORIZONTE', 'municipio_codigo': 3106200, 'data_da_contratacao': '2002-01-10', 'valor_da_operacao_em_reais': 28776, 'valor_desembolsado_reais': 28776.0, 'fonte_de_recurso_desembolsos': 'RECURSOS LIVRES - PRÓPRIOS', 'custo_financeiro': 'TJLP', 'juros': 5.0, 'prazo_carencia_meses': 6, 'prazo_amortizacao_meses': 54, 'modalidade_de_apoio': 'REEMBOLSÁVEL', 'forma_de_apoio': 'INDIRETA', 'produto': 'BNDES FINAME', 'instrumento_financeiro': 'OUTROS', 'inovacao': 'NÃO', 'area_operacional': 'AREA DE OPERACOES E CANAIS DIGITAIS', 'setor_cnae': 'COMERCIO E SERVICOS', 'subsetor_cnae_agrupado': 'Comércio', 'subsetor_cnae_codigo': 'G4754700', 'subsetor_cnae_nome': 'COM VAREJISTA ESPECI MOVEIS, COLCHOARIA E ARTIGOS DE ILUMINACAO', 'setor_bndes': 'COMERCIO/SERVICOS', 'subsetor_bndes': 'COMÉRCIO E SERVIÇOS', 'porte_do_cliente': 'PEQUENA', 'natureza_do_cliente': 'PRIVADA', 'instituicao_financeira_credenciada': 'BANCO DO BRASIL SA', 'cnpj_do_agente_financeiro': '00.000.000.0001-91', 'situacao_da_operacao': 'LIQUIDADA', '_rid': 'zsJFAO4xTEB-AwAAAAAAAA==', '_self': 'dbs/zsJFAA==/colls/zsJFAO4xTEA=/docs/zsJFAO4xTEB-AwAAAAAAAA==/', '_etag': '\"c00067c9-0000-0200-0000-6123fa890000\"', '_attachments': 'attachments/', '_ts': 1629747849}]\n"
          ],
          "name": "stdout"
        }
      ]
    },
    {
      "cell_type": "code",
      "metadata": {
        "id": "lH-96n7R-Hkk"
      },
      "source": [
        "app = FastAPI()\n",
        "\n",
        "@app.on_event(\"startup\")\n",
        "def load_model():\n",
        "    global query, model, transformation\n",
        "    #fpickle = pickle.load(open(\"model_tree.pkl\", \"rb\"))\n",
        "    #model = fpickle['model']\n",
        "    #transformation = fpickle['transformation']\n",
        "\n",
        "@app.get('/')\n",
        "def index():\n",
        "    return {'message': 'This is the homepage of the API '}\n",
        "\n",
        "@app.get('/zip/{item_code}')\n",
        "def get_data_by_zip(item_code: int):\n",
        "    query = \"select top 1 * from c where c.municipio_codigo = {}\".format(str(item_code))\n",
        "    print(query)\n",
        "    result = get_query_items(query)\n",
        "    return result"
      ],
      "execution_count": null,
      "outputs": []
    },
    {
      "cell_type": "code",
      "metadata": {
        "id": "zcfjU5Lk-KkT"
      },
      "source": [
        "from colabcode import ColabCode\n",
        "server = ColabCode(port=10000, code=False)"
      ],
      "execution_count": null,
      "outputs": []
    },
    {
      "cell_type": "code",
      "metadata": {
        "colab": {
          "base_uri": "https://localhost:8080/"
        },
        "id": "lMfJYq25-NM4",
        "outputId": "c2eadd1f-60cc-45a7-900e-533071eade51"
      },
      "source": [
        "server.run_app(app=app)"
      ],
      "execution_count": null,
      "outputs": [
        {
          "output_type": "stream",
          "text": [
            "INFO:     Started server process [342]\n",
            "INFO:     Waiting for application startup.\n",
            "INFO:     Application startup complete.\n",
            "INFO:     Uvicorn running on http://127.0.0.1:10000 (Press CTRL+C to quit)\n"
          ],
          "name": "stderr"
        },
        {
          "output_type": "stream",
          "text": [
            "Public URL: NgrokTunnel: \"https://db84-35-229-160-204.ngrok.io\" -> \"http://localhost:10000\"\n",
            "INFO:     201.80.0.251:0 - \"GET / HTTP/1.1\" 200 OK\n",
            "INFO:     201.80.0.251:0 - \"GET /favicon.ico HTTP/1.1\" 404 Not Found\n",
            "INFO:     201.80.0.251:0 - \"GET /zip/ HTTP/1.1\" 404 Not Found\n",
            "select top 1 * from c where c.municipio_codigo = 5200050\n",
            "INFO:     201.80.0.251:0 - \"GET /zip/5200050 HTTP/1.1\" 200 OK\n"
          ],
          "name": "stdout"
        },
        {
          "output_type": "stream",
          "text": [
            "INFO:     Shutting down\n",
            "INFO:     Waiting for application shutdown.\n",
            "INFO:     Application shutdown complete.\n",
            "INFO:     Finished server process [342]\n"
          ],
          "name": "stderr"
        }
      ]
    }
  ]
}